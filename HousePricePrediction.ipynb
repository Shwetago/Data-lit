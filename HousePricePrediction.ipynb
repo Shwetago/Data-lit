{
  "cells": [
    {
      "metadata": {
        "_cell_guid": "79c7e3d0-c299-4dcb-8224-4455121ee9b0",
        "_uuid": "d629ff2d2480ee46fbb7e2d37f6b5fab8052498a",
        "trusted": true
      },
      "cell_type": "code",
      "source": "import numpy as np\nimport pandas as pd\nimport matplotlib.pyplot as plt\nimport seaborn as sns\n\nfrom sklearn.model_selection import train_test_split\nfrom sklearn.preprocessing import LabelEncoder\nfrom sklearn.linear_model import LinearRegression\nfrom sklearn.metrics import r2_score, mean_absolute_error, mean_squared_error\nfrom sklearn import ensemble",
      "execution_count": null,
      "outputs": []
    },
    {
      "metadata": {
        "trusted": true,
        "_uuid": "15cbf2c0ea0bb8dafcc68ddcc5ff508f1650eec3"
      },
      "cell_type": "code",
      "source": "train = pd.read_csv('../input/train.csv')\ntest = pd.read_csv('../input/test.csv')",
      "execution_count": null,
      "outputs": []
    },
    {
      "metadata": {
        "trusted": true,
        "_uuid": "990868f9b816c6acf6916f1530418e91231ccf98"
      },
      "cell_type": "code",
      "source": "train.head()",
      "execution_count": null,
      "outputs": []
    },
    {
      "metadata": {
        "trusted": true,
        "_uuid": "3fb795928744cd446448d0db7344bdf2c2f29f83"
      },
      "cell_type": "code",
      "source": "test.head()",
      "execution_count": null,
      "outputs": []
    },
    {
      "metadata": {
        "trusted": true,
        "_uuid": "c77d7988720931305cf93a5377bc962c7e95703a"
      },
      "cell_type": "code",
      "source": "train.info()",
      "execution_count": null,
      "outputs": []
    },
    {
      "metadata": {
        "trusted": true,
        "_uuid": "44c47b4f89c6cef844ab1018871a68ed1fc537fb"
      },
      "cell_type": "code",
      "source": "print(train.shape, test.shape)",
      "execution_count": null,
      "outputs": []
    },
    {
      "metadata": {
        "trusted": true,
        "_uuid": "dfb56b3cfce1d48fa0db7206daa525ed7b87cb65"
      },
      "cell_type": "code",
      "source": "trainID = train['Id']\ntestID = test['Id']",
      "execution_count": null,
      "outputs": []
    },
    {
      "metadata": {
        "trusted": true,
        "_uuid": "549bc811e1ba84c1547b684b7457d4d27cac2cc8"
      },
      "cell_type": "code",
      "source": "train.drop(\"Id\", axis=1, inplace=True)\ntest.drop(\"Id\", axis=1, inplace=True)",
      "execution_count": null,
      "outputs": []
    },
    {
      "metadata": {
        "trusted": true,
        "_uuid": "efbb3793e40a5fd34e306af45c2db70366b1883f"
      },
      "cell_type": "code",
      "source": "# Our target variable is SalePrice\n# We drop that variable from training data\ndata = pd.concat([train.drop('SalePrice', axis = 1),test], axis = 0)",
      "execution_count": null,
      "outputs": []
    },
    {
      "metadata": {
        "trusted": true,
        "_uuid": "694e2cf278d92ef52e7914e9f844a8194bd08070"
      },
      "cell_type": "code",
      "source": "data.isnull().sum().sort_values(ascending=False)",
      "execution_count": null,
      "outputs": []
    },
    {
      "metadata": {
        "trusted": true,
        "_uuid": "2b64cb8c471202fe58b1f567cf1c705a758c806b"
      },
      "cell_type": "code",
      "source": "#correlation matrix\ncorrmat = data.corr()\nf, ax = plt.subplots(figsize=(12, 9))\nsns.heatmap(corrmat, vmax=.8, square=True);",
      "execution_count": null,
      "outputs": []
    },
    {
      "metadata": {
        "trusted": true,
        "_uuid": "76c3ae2edf8245c7966e3517ea4a6afac587c07b"
      },
      "cell_type": "code",
      "source": "#Group by neighborhood and fill in missing value by the median LotFrontage of all the neighborhood\ndata[\"LotFrontage\"] = data.groupby(\"Neighborhood\")[\"LotFrontage\"].transform(lambda x: x.fillna(x.median()))\n",
      "execution_count": null,
      "outputs": []
    },
    {
      "metadata": {
        "trusted": true,
        "_uuid": "4b8556ea4a054cb44835a503b6560956878c20b3"
      },
      "cell_type": "code",
      "source": "# GarageType, GarageFinish, GarageQual and GarageCond : Replacing missing data with None\nfor col in ('GarageType', 'GarageFinish', 'GarageQual', 'GarageCond'):\n    data[col] = data[col].fillna('None')\n",
      "execution_count": null,
      "outputs": []
    },
    {
      "metadata": {
        "trusted": true,
        "_uuid": "f5ed9613d5e823ac36ff33bd4d7ed0cfebe31ff8"
      },
      "cell_type": "code",
      "source": "# BsmtFinSF1, BsmtFinSF2, BsmtUnfSF, TotalBsmtSF, BsmtFullBath and BsmtHalfBath : missing values are likely zero for having no basement\nfor col in ('BsmtFinSF1', 'BsmtFinSF2', 'BsmtUnfSF','TotalBsmtSF', 'BsmtFullBath', 'BsmtHalfBath'):\n    data[col] = data[col].fillna(0)",
      "execution_count": null,
      "outputs": []
    },
    {
      "metadata": {
        "trusted": true,
        "_uuid": "e7b4a92be3e8a1fe6b766e667600856734d382b5"
      },
      "cell_type": "code",
      "source": "# GarageYrBlt, GarageArea and GarageCars : Replacing missing data with 0 (Since No garage = no cars in such garage.)\nfor col in ('GarageYrBlt', 'GarageArea', 'GarageCars'):\n    data[col] = data[col].fillna(int(0))",
      "execution_count": null,
      "outputs": []
    },
    {
      "metadata": {
        "trusted": true,
        "_uuid": "786b7cc87a70658090e7ea7e1a3b00202e42221b"
      },
      "cell_type": "code",
      "source": "# BsmtQual, BsmtCond, BsmtExposure, BsmtFinType1 and BsmtFinType2 : For all these categorical basement-related features, NaN means that there is no basement.\nfor col in ('BsmtQual', 'BsmtCond', 'BsmtExposure', 'BsmtFinType1', 'BsmtFinType2'):\n    data[col] = data[col].fillna('None')",
      "execution_count": null,
      "outputs": []
    },
    {
      "metadata": {
        "trusted": true,
        "_uuid": "3f111afeebc8803d1a30104eec9470aa37d7b731"
      },
      "cell_type": "code",
      "source": "# MasVnrArea and MasVnrType : NA most likely means no masonry veneer for these houses. We can fill 0 for the area and None for the type.\ndata[\"MasVnrType\"] = data[\"MasVnrType\"].fillna(\"None\")\ndata[\"MasVnrArea\"] = data[\"MasVnrArea\"].fillna(int(0))",
      "execution_count": null,
      "outputs": []
    },
    {
      "metadata": {
        "trusted": true,
        "_uuid": "09453fb74e122ef8eeb373fee3f33e4d21b1434f"
      },
      "cell_type": "code",
      "source": "# MSZoning (The general zoning classification) : 'RL' is by far the most common value. So we can fill in missing values with 'RL'\ndata['MSZoning'] = data['MSZoning'].fillna(data['MSZoning'].mode()[0])",
      "execution_count": null,
      "outputs": []
    },
    {
      "metadata": {
        "trusted": true,
        "_uuid": "9e66ccca25fcbc9161d57ef81e8b602036a018b4"
      },
      "cell_type": "code",
      "source": "#There is put mode value \ndata['Electrical'] = data['Electrical'].fillna(data['Electrical']).mode()[0]\n\n#There is no need of Utilities\ndata = data.drop(['Utilities'], axis=1)\n\ndata['PoolQC'] = data['PoolQC'].fillna('None')\n\ndata['MiscFeature'].fillna('None', inplace = True)\ndata['Alley'].fillna('None', inplace = True)\ndata['Fence'].fillna('None', inplace = True)\ndata['FireplaceQu'] = data['FireplaceQu'].fillna('None')\ndata['KitchenQual'].fillna(data['KitchenQual'].mode()[0], inplace = True)\ndata['BsmtFullBath'].fillna(0, inplace = True)\ndata['FullBath'].fillna(data['FullBath'].mode()[0],inplace = True)\ndata['Functional'].fillna(data['Functional'].mode()[0],inplace=True)",
      "execution_count": null,
      "outputs": []
    },
    {
      "metadata": {
        "trusted": true,
        "_uuid": "71bb6197efa38ab7ccb8c07b92a52b71fa9d87da"
      },
      "cell_type": "code",
      "source": "for col in ['SaleType','KitchenQual','Exterior2nd','Exterior1st','Electrical']:\n    data[col].fillna(data[col].mode()[0],inplace=True)",
      "execution_count": null,
      "outputs": []
    },
    {
      "metadata": {
        "trusted": true,
        "_uuid": "febf41ea2bea66e1c2c32cc1dcbfc90dd9424c2e"
      },
      "cell_type": "code",
      "source": "data.isnull().values.any()",
      "execution_count": null,
      "outputs": []
    },
    {
      "metadata": {
        "trusted": true,
        "_uuid": "806759b517a756f549c02d05434faf8d2252c5a4"
      },
      "cell_type": "code",
      "source": "cat_features = data.select_dtypes(include = ['object']).columns.values\ncat_features",
      "execution_count": null,
      "outputs": []
    },
    {
      "metadata": {
        "trusted": true,
        "_uuid": "c4a25b2abd91ce151de905b69249d60c8799ef66"
      },
      "cell_type": "code",
      "source": "num_features = data.select_dtypes(include = ['float64', 'int64']).columns.values\nnum_features",
      "execution_count": null,
      "outputs": []
    },
    {
      "metadata": {
        "trusted": true,
        "_uuid": "aa3c214d73e9807c6532eb337397c994638fba4c"
      },
      "cell_type": "code",
      "source": "#MSSubClass=The building class\ndata['MSSubClass'] = data['MSSubClass'].apply(str)\n\n\n#Changing OverallCond into a categorical variable\ndata['OverallCond'] = data['OverallCond'].astype(str)\n\n\n#Year and month sold are transformed into categorical features.\ndata['YrSold'] = data['YrSold'].astype(str)\ndata['MoSold'] = data['MoSold'].astype(str)",
      "execution_count": null,
      "outputs": []
    },
    {
      "metadata": {
        "trusted": true,
        "_uuid": "4a1de6af0069ac115ff6d1140e2db1cb85f3b52d"
      },
      "cell_type": "code",
      "source": "# Label Encoding some categorical variables that may contain information in their ordering set\n\ncols = ('FireplaceQu', 'BsmtQual', 'BsmtCond', 'GarageQual', 'GarageCond', \n        'ExterQual', 'ExterCond','HeatingQC', 'PoolQC', 'KitchenQual', 'BsmtFinType1', \n        'BsmtFinType2', 'Functional', 'Fence', 'BsmtExposure', 'GarageFinish', 'LandSlope',\n        'LotShape', 'PavedDrive', 'Street', 'Alley', 'CentralAir', 'MSSubClass', 'OverallCond', \n        'YrSold', 'MoSold', 'MSZoning', 'LandContour', 'LotConfig', 'Neighborhood',\n        'Condition1', 'Condition2', 'BldgType', 'HouseStyle', 'RoofStyle', 'RoofMatl', 'Exterior1st',\n        'Exterior2nd', 'MasVnrType', 'Foundation', 'GarageType', 'MiscFeature', \n        'SaleType', 'SaleCondition', 'Electrical', 'Heating')",
      "execution_count": null,
      "outputs": []
    },
    {
      "metadata": {
        "trusted": true,
        "_uuid": "f8283c453c6b92beb4e23b7f1cd53f5b6dd9da56"
      },
      "cell_type": "code",
      "source": "# process columns, apply LabelEncoder to categorical features\n\nfor c in cols:\n    lbl = LabelEncoder()\n    lbl.fit(list(data[c].values))\n    data[c] = lbl.transform(list(data[c].values))",
      "execution_count": null,
      "outputs": []
    },
    {
      "metadata": {
        "trusted": true,
        "_uuid": "f18ef7b7869b3413d62c4a60b99b67761c461533"
      },
      "cell_type": "code",
      "source": "data.shape",
      "execution_count": null,
      "outputs": []
    },
    {
      "metadata": {
        "trusted": true,
        "_uuid": "f71fa1dc27cc80cca93f3ff4172639283e4cfb0a"
      },
      "cell_type": "code",
      "source": "# split data\ntrainData = data.iloc[:1460,:]\ntestData = data.iloc[1460:,:]",
      "execution_count": null,
      "outputs": []
    },
    {
      "metadata": {
        "trusted": true,
        "_uuid": "a1510df1922aedd62ac5e106f275614eff7c7c7d"
      },
      "cell_type": "code",
      "source": "X = trainData\ny = train['SalePrice']",
      "execution_count": null,
      "outputs": []
    },
    {
      "metadata": {
        "trusted": true,
        "_uuid": "a1c0fbebd67e11553c0d53f46f32c4e760decd35"
      },
      "cell_type": "code",
      "source": "X_train, X_test, y_train, y_test = train_test_split(X, y, test_size=0.20, random_state=4)",
      "execution_count": null,
      "outputs": []
    },
    {
      "metadata": {
        "trusted": true,
        "_uuid": "af1e4d09ba09f2047704d4d2583a4c944f0166ab"
      },
      "cell_type": "code",
      "source": "LR = LinearRegression()\nLR.fit(X_train, y_train)",
      "execution_count": null,
      "outputs": []
    },
    {
      "metadata": {
        "trusted": true,
        "_uuid": "2a3a7cb88641acb9fb6c926e9d0ea474480b1a0b"
      },
      "cell_type": "code",
      "source": "LR.score(X_test, y_test)",
      "execution_count": null,
      "outputs": []
    },
    {
      "metadata": {
        "trusted": true,
        "_uuid": "bd48006eb5467f772c3b1d91a2a18853d89dd702"
      },
      "cell_type": "code",
      "source": "pred = LR.predict(X_test)",
      "execution_count": null,
      "outputs": []
    },
    {
      "metadata": {
        "trusted": true,
        "_uuid": "4b874b9f202132ba924efa8dda65ddca0b9d688d"
      },
      "cell_type": "code",
      "source": "print('r2_score: ', r2_score(y_test, pred))\nprint('Mean Absolute Error(MAE): ', mean_absolute_error(y_test, pred))\nprint('Root Mean Squared Error(RMSE): ', np.sqrt(mean_squared_error(y_test, pred)))",
      "execution_count": null,
      "outputs": []
    },
    {
      "metadata": {
        "trusted": true,
        "_uuid": "42b7d756bf71c016240e160acd7f094a197eeb5c"
      },
      "cell_type": "code",
      "source": "clf = ensemble.GradientBoostingRegressor(n_estimators = 400, max_depth = 5, min_samples_split = 2,\n        learning_rate = 0.09580, loss = 'ls')",
      "execution_count": null,
      "outputs": []
    },
    {
      "metadata": {
        "trusted": true,
        "_uuid": "65373332b9b99a4e8fc288a137e81e274aa855e5"
      },
      "cell_type": "code",
      "source": "clf.fit(X_train, y_train)",
      "execution_count": null,
      "outputs": []
    },
    {
      "metadata": {
        "trusted": true,
        "_uuid": "979ec54c4e76dcc2360f57e9f0f1af8270e77dce"
      },
      "cell_type": "code",
      "source": "clf.score(X_test, y_test)",
      "execution_count": null,
      "outputs": []
    },
    {
      "metadata": {
        "trusted": true,
        "_uuid": "68d47ee50849292044a4fdbf50899271b1330a3d"
      },
      "cell_type": "code",
      "source": "clf.fit(X, y)",
      "execution_count": null,
      "outputs": []
    },
    {
      "metadata": {
        "trusted": true,
        "_uuid": "2ae4a9e95e201120d52417fe67679e061918553d"
      },
      "cell_type": "code",
      "source": "Pred = clf.predict(testData)",
      "execution_count": null,
      "outputs": []
    },
    {
      "metadata": {
        "trusted": true,
        "_uuid": "96dcfcaf5e24bc2b679156d6f162a1cd2db2b577"
      },
      "cell_type": "code",
      "source": "submission = pd.DataFrame({'Id':testID, 'SalePrice':Pred})",
      "execution_count": null,
      "outputs": []
    },
    {
      "metadata": {
        "trusted": true,
        "_uuid": "3b5e2303eb40e940f331ef3004e2e2172fb11f33"
      },
      "cell_type": "code",
      "source": "submission.to_csv('houseprice.csv', index=False)",
      "execution_count": null,
      "outputs": []
    },
    {
      "metadata": {
        "trusted": true,
        "_uuid": "12bedeb4cb1cf462f218b51be5fec6d8e7e32a2b"
      },
      "cell_type": "code",
      "source": "",
      "execution_count": null,
      "outputs": []
    }
  ],
  "metadata": {
    "kernelspec": {
      "display_name": "Python 3",
      "language": "python",
      "name": "python3"
    },
    "language_info": {
      "name": "python",
      "version": "3.6.6",
      "mimetype": "text/x-python",
      "codemirror_mode": {
        "name": "ipython",
        "version": 3
      },
      "pygments_lexer": "ipython3",
      "nbconvert_exporter": "python",
      "file_extension": ".py"
    }
  },
  "nbformat": 4,
  "nbformat_minor": 1
}